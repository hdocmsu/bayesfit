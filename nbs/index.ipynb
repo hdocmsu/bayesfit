{
 "cells": [
  {
   "cell_type": "markdown",
   "metadata": {},
   "source": [
    "# README\n",
    "\n",
    "> A template for nbdev-generated project"
   ]
  },
  {
   "cell_type": "markdown",
   "metadata": {},
   "source": [
    "## Get started\n",
    "\n",
    "* Create a new project using this template\n",
    "\n",
    "* run `make init_repository` to initialize the repo for nbdev\n",
    "\n",
    "* run `nbdev_preview` to makesure nbdev renders the website\n",
    "\n",
    "* modify setting.ini and _quarto.yml as needed to reflect names and hyperlinks of this project\n",
    "\n",
    "* add notebook in the `nbs` folder and start building software\n",
    "\n",
    "\n",
    "Happy Coding!"
   ]
  },
  {
   "cell_type": "markdown",
   "metadata": {},
   "source": []
  }
 ],
 "metadata": {
  "kernelspec": {
   "display_name": "python3",
   "language": "python",
   "name": "python3"
  }
 },
 "nbformat": 4,
 "nbformat_minor": 4
}
